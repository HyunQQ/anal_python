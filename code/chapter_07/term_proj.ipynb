{
 "cells": [
  {
   "cell_type": "code",
   "execution_count": 7,
   "metadata": {},
   "outputs": [],
   "source": [
    "# Example of Standalone Simple Linear Regression\n",
    "\n",
    "\n",
    "# Calculate root mean squared error\n",
    "def rmse_metric(actual, predicted):\n",
    "\tsum_error = 0.0\n",
    "\tfor i in range(len(actual)):\n",
    "\t\tprediction_error = predicted[i] - actual[i]\n",
    "\t\tsum_error += (prediction_error ** 2)\n",
    "\tmean_error = sum_error / float(len(actual))\n",
    "\treturn sqrt(mean_error)\n",
    "\n",
    "# Evaluate regression algorithm on training dataset\n",
    "def evaluate_algorithm(dataset, algorithm, split, *args):\n",
    "    train, test = train_test_split(dataset, split)\n",
    "\ttest_set = list()\n",
    "\tfor row in test:\n",
    "\t\trow_copy = list(row)\n",
    "\t\trow_copy[-1] = None\n",
    "\t\ttest_set.append(row_copy)\n",
    "\tpredicted = algorithm(dataset, test_set)\n",
    "\tprint(predicted)\n",
    "\tactual = [row[-1] for row in dataset]\n",
    "\trmse = rmse_metric(actual, predicted)\n",
    "\treturn rmse\n",
    "\n",
    "# Calculate the mean value of a list of numbers\n",
    "def mean(values):\n",
    "\treturn sum(values) / float(len(values))\n",
    "\n",
    "# Calculate covariance between x and y\n",
    "def covariance(x, mean_x, y, mean_y):\n",
    "\tcovar = 0.0\n",
    "\tfor i in range(len(x)):\n",
    "\t\tcovar += (x[i] - mean_x) * (y[i] - mean_y)\n",
    "\treturn covar\n",
    "\n",
    "# Calculate the variance of a list of numbers\n",
    "def variance(values, mean):\n",
    "\treturn sum([(x-mean)**2 for x in values])\n",
    "\n",
    "# Calculate coefficients\n",
    "def coefficients(dataset):\n",
    "\tx = [row[0] for row in dataset]\n",
    "\ty = [row[1] for row in dataset]\n",
    "\tx_mean, y_mean = mean(x), mean(y)\n",
    "\tb1 = covariance(x, x_mean, y, y_mean) / variance(x, x_mean)\n",
    "\tb0 = y_mean - b1 * x_mean\n",
    "\treturn [b0, b1]\n",
    "\n",
    "# Simple linear regression algorithm\n",
    "def simple_linear_regression(train, test):\n",
    "\tpredictions = list()\n",
    "\tb0, b1 = coefficients(train)\n",
    "\tfor row in test:\n",
    "\t\tyhat = b0 + b1 * row[0]\n",
    "\t\tpredictions.append(yhat)\n",
    "\treturn predictions\n",
    "\n"
   ]
  },
  {
   "cell_type": "code",
   "execution_count": 2,
   "metadata": {},
   "outputs": [],
   "source": [
    "from random import seed, randrange\n",
    "from csv import reader\n",
    "from math import sqrt\n"
   ]
  },
  {
   "cell_type": "code",
   "execution_count": 3,
   "metadata": {},
   "outputs": [],
   "source": [
    "def load_csv(filename):\n",
    "    dataset = list()\n",
    "    with open(filename, 'r') as file:\n",
    "        csv_reader = reader(file)\n",
    "        for row in csv_reader:\n",
    "            if not row:\n",
    "                continue\n",
    "            dataset.append(row)\n",
    "    return dataset"
   ]
  },
  {
   "cell_type": "code",
   "execution_count": 4,
   "metadata": {},
   "outputs": [],
   "source": [
    "def str_column_to_float(dataset, column):\n",
    "    for row in dataset:\n",
    "        row[column] = float(row[column])"
   ]
  },
  {
   "cell_type": "code",
   "execution_count": 6,
   "metadata": {},
   "outputs": [],
   "source": [
    "def train_test_split(dataset, split):\n",
    "    train= list()\n",
    "    train_size= split*len(dateset)\n",
    "    dataset_copy = list(dataset)\n",
    "    while len(train) < train_size:\n",
    "        index = randrange(len(dataset_copy))\n",
    "        train.append(dataset_copy.pop(index))\n",
    "    return train, dataset_copy\n"
   ]
  },
  {
   "cell_type": "code",
   "execution_count": 12,
   "metadata": {},
   "outputs": [
    {
     "name": "stdout",
     "output_type": "stream",
     "text": [
      "[388.68743024628236, 84.85713340037577, 64.37419203997757, 443.30860720734427, 156.54742816176946, 214.5824286828977, 98.51242764064123, 67.78801560004393, 173.6165459621013, 54.13272135977847, 37.06360355944664, 183.8580166423004, 57.54654491984484, 98.51242764064123, 43.89125067957937, 26.82213287924754, 101.92625120070761, 40.47742711951301, 30.23595643931391, 98.51242764064123, 40.47742711951301, 50.71889779971211, 50.71889779971211, 30.23595643931391, 118.99536900103944, 43.89125067957937, 33.64977999938027, 88.27095696044213, 43.89125067957937, 33.64977999938027, 19.99448575911481, 105.34007476077397, 40.47742711951301, 37.06360355944664, 95.09860408057487, 57.54654491984484, 228.23772292316318, 60.96036847991121, 33.64977999938027, 74.61566272017667, 64.37419203997757, 224.82389936309679, 159.96125172183582, 146.30595748157037, 207.75478156276498, 159.96125172183582, 57.54654491984484, 112.1677218809067, 47.30507423964574, 30.23595643931391, 78.02948628024305, 64.37419203997757, 64.37419203997757, 71.2018391601103, 47.30507423964574, 118.99536900103944, 122.4091925611058, 101.92625120070761, 50.71889779971211, 125.82301612117217, 67.78801560004393, 200.92713444263222, 108.75389832084034]\n",
      "rmse: 35.366\n"
     ]
    }
   ],
   "source": [
    "seed(1)\n",
    "filename = \"insurance.csv\"\n",
    "dataset = load_csv(filename)\n",
    "for i in range(len(dataset[0])):\n",
    "    str_column_to_float(dataset,i)\n",
    "\n",
    "split=0.7\n",
    "rmse = evaluate_algorithm(dataset, simple_linear_regression, split)\n",
    "print(\"rmse: %.3f\" %(rmse))"
   ]
  },
  {
   "cell_type": "code",
   "execution_count": null,
   "metadata": {},
   "outputs": [],
   "source": []
  }
 ],
 "metadata": {
  "kernelspec": {
   "display_name": "Python 3.5",
   "language": "python",
   "name": "python3"
  },
  "language_info": {
   "codemirror_mode": {
    "name": "ipython",
    "version": 3
   },
   "file_extension": ".py",
   "mimetype": "text/x-python",
   "name": "python",
   "nbconvert_exporter": "python",
   "pygments_lexer": "ipython3",
   "version": "3.5.5"
  }
 },
 "nbformat": 4,
 "nbformat_minor": 2
}
